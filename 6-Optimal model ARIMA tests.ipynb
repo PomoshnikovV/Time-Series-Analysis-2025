{
 "cells": [
  {
   "cell_type": "code",
   "execution_count": 1,
   "metadata": {},
   "outputs": [],
   "source": [
    "import numpy as np\n",
    "import pandas as pd\n",
    "\n",
    "from sktime.forecasting.arima import ARIMA, AutoARIMA\n",
    "# from sktime.forecasting.arima import StatsModelsARIMA\n",
    "# from sktime.forecasting.statsforecast import StatsForecastAutoARIMA\n",
    "from sktime.utils.plotting import plot_series\n",
    "# временной горизонт для прогнозирования\n",
    "from sktime.forecasting.base import ForecastingHorizon\n",
    "\n",
    "import pandas_datareader.data as web\n",
    "\n",
    "# тесты диагностики\n",
    "from statsmodels.stats.diagnostic import het_arch, acorr_ljungbox\n",
    "\n",
    "# настройки визуализации\n",
    "import matplotlib.pyplot as plt\n",
    "\n",
    "# Не показывать Warnings\n",
    "import warnings\n",
    "warnings.simplefilter(action='ignore', category=Warning)\n",
    "# Не показывать ValueWarning, ConvergenceWarning из statsmodels\n",
    "from statsmodels.tools.sm_exceptions import ValueWarning, ConvergenceWarning\n",
    "warnings.simplefilter('ignore', category=ValueWarning)\n",
    "warnings.simplefilter('ignore', category=ConvergenceWarning)"
   ]
  },
  {
   "cell_type": "code",
   "execution_count": 2,
   "metadata": {},
   "outputs": [
    {
     "data": {
      "text/plain": [
       "361"
      ]
     },
     "execution_count": 2,
     "metadata": {},
     "output_type": "execute_result"
    }
   ],
   "source": [
    "y = np.log(web.DataReader(name='M2SL', data_source='fred', start='1995-01-01'))\n",
    "y.index = y.index.to_period(freq='M') # замена индекса на периодический. Иначе кросс-валидация не будет работать\n",
    "# длина ряда\n",
    "len(y)"
   ]
  },
  {
   "cell_type": "code",
   "execution_count": 19,
   "metadata": {},
   "outputs": [
    {
     "data": {
      "text/plain": [
       "{'intercept': 0.0019404499468918593,\n",
       " 'ar.L1': 0.611558223943569,\n",
       " 'sigma2': 1.9712747511002272e-05,\n",
       " 'order': (1, 1, 0),\n",
       " 'seasonal_order': (0, 0, 0, 0),\n",
       " 'aic': -2871.768955342817,\n",
       " 'aicc': -2871.7015396124802,\n",
       " 'bic': -2860.1106432484667,\n",
       " 'hqic': -2867.133389398556}"
      ]
     },
     "execution_count": 19,
     "metadata": {},
     "output_type": "execute_result"
    }
   ],
   "source": [
    "# Общий подход к оценке оптимальной модели ARIMA\n",
    "forecaster = AutoARIMA(information_criterion='aic', test='kpss', seasonal=False, max_p=10, max_q=10)\n",
    "forecaster.fit(y)\n",
    "forecaster.get_fitted_params() #['order']"
   ]
  },
  {
   "cell_type": "markdown",
   "metadata": {},
   "source": [
    "# Тест единичного корня\n",
    "Пытаемся ответить на вопрос \"Стационарность или не стационарность???\""
   ]
  },
  {
   "cell_type": "code",
   "execution_count": 5,
   "metadata": {},
   "outputs": [],
   "source": [
    "import numpy as np\n",
    "import pandas as pd\n",
    "\n",
    "from sktime.param_est.stationarity import StationarityADF, StationarityKPSS, StationarityDFGLS, \\\n",
    "\tStationarityPhillipsPerron, StationarityADFArch, StationarityKPSSArch\n",
    "\n",
    "import pandas_datareader.data as web\n",
    "\n",
    "# настройки визуализации\n",
    "import matplotlib.pyplot as plt\n",
    "\n",
    "# Не показывать Warnings\n",
    "import warnings\n",
    "warnings.simplefilter(action='ignore', category=Warning)\n",
    "# Не показывать InterpolationWarning из statsmodels\n",
    "from statsmodels.tools.sm_exceptions import InterpolationWarning\n",
    "warnings.simplefilter('ignore', category=InterpolationWarning)"
   ]
  },
  {
   "cell_type": "code",
   "execution_count": 6,
   "metadata": {},
   "outputs": [
    {
     "data": {
      "text/plain": [
       "361"
      ]
     },
     "execution_count": 6,
     "metadata": {},
     "output_type": "execute_result"
    }
   ],
   "source": [
    "y = np.log(web.DataReader(name='M2SL', data_source='fred', start='1995-01-01'))\n",
    "y.index = y.index.to_period(freq='M') # замена индекса на периодический. Иначе кросс-валидация не будет работать\n",
    "# длина ряда\n",
    "len(y)"
   ]
  },
  {
   "cell_type": "markdown",
   "metadata": {},
   "source": [
    "### ADF"
   ]
  },
  {
   "cell_type": "code",
   "execution_count": null,
   "metadata": {},
   "outputs": [
    {
     "data": {
      "text/plain": [
       "{'pvalue': 0.39690962302773836,\n",
       " 'stationary': False,\n",
       " 'test_statistic': -2.3677292402945285,\n",
       " 'used_lag': 1}"
      ]
     },
     "execution_count": 8,
     "metadata": {},
     "output_type": "execute_result"
    }
   ],
   "source": [
    "sty_est = StationarityADF(p_threshold=0.05, regression='ct', autolag='BIC')\n",
    "sty_est.fit(y)\n",
    "sty_est.get_fitted_params()"
   ]
  },
  {
   "cell_type": "code",
   "execution_count": null,
   "metadata": {},
   "outputs": [
    {
     "data": {
      "text/plain": [
       "{'pvalue': 1.2229705173161054e-15,\n",
       " 'stationary': True,\n",
       " 'test_statistic': -9.28489115282,\n",
       " 'used_lag': 0}"
      ]
     },
     "execution_count": 9,
     "metadata": {},
     "output_type": "execute_result"
    }
   ],
   "source": [
    "# c - т.к. тренд убивается\n",
    "sty_est = StationarityADF(p_threshold=0.05, regression='c', autolag='BIC')\n",
    "sty_est.fit(y.diff().dropna()) \n",
    "sty_est.get_fitted_params()"
   ]
  },
  {
   "cell_type": "markdown",
   "metadata": {},
   "source": [
    "### KPSS"
   ]
  },
  {
   "cell_type": "code",
   "execution_count": 11,
   "metadata": {},
   "outputs": [
    {
     "data": {
      "text/plain": [
       "{'lags': 11,\n",
       " 'pvalue': 0.021278753083525215,\n",
       " 'stationary': False,\n",
       " 'test_statistic': 0.18592332511059942}"
      ]
     },
     "execution_count": 11,
     "metadata": {},
     "output_type": "execute_result"
    }
   ],
   "source": [
    "sty_est = StationarityKPSS(p_threshold=0.05, regression='ct')\n",
    "sty_est.fit(y)\n",
    "sty_est.get_fitted_params()"
   ]
  },
  {
   "cell_type": "code",
   "execution_count": 12,
   "metadata": {},
   "outputs": [
    {
     "data": {
      "text/plain": [
       "{'lags': 9,\n",
       " 'pvalue': 0.1,\n",
       " 'stationary': True,\n",
       " 'test_statistic': 0.0606027030830028}"
      ]
     },
     "execution_count": 12,
     "metadata": {},
     "output_type": "execute_result"
    }
   ],
   "source": [
    "sty_est = StationarityKPSS(p_threshold=0.05, regression='ct')\n",
    "sty_est.fit(y.diff().dropna())\n",
    "sty_est.get_fitted_params()"
   ]
  },
  {
   "cell_type": "markdown",
   "metadata": {},
   "source": [
    "## Autocorrelation Tests"
   ]
  },
  {
   "cell_type": "code",
   "execution_count": 13,
   "metadata": {},
   "outputs": [
    {
     "data": {
      "text/html": [
       "<table class=\"simpletable\">\n",
       "<caption>SARIMAX Results</caption>\n",
       "<tr>\n",
       "  <th>Dep. Variable:</th>           <td>y</td>        <th>  No. Observations:  </th>    <td>361</td>   \n",
       "</tr>\n",
       "<tr>\n",
       "  <th>Model:</th>           <td>SARIMAX(1, 1, 0)</td> <th>  Log Likelihood     </th> <td>1438.884</td> \n",
       "</tr>\n",
       "<tr>\n",
       "  <th>Date:</th>            <td>Tue, 25 Mar 2025</td> <th>  AIC                </th> <td>-2871.769</td>\n",
       "</tr>\n",
       "<tr>\n",
       "  <th>Time:</th>                <td>11:39:00</td>     <th>  BIC                </th> <td>-2860.111</td>\n",
       "</tr>\n",
       "<tr>\n",
       "  <th>Sample:</th>             <td>01-31-1995</td>    <th>  HQIC               </th> <td>-2867.133</td>\n",
       "</tr>\n",
       "<tr>\n",
       "  <th></th>                   <td>- 01-31-2025</td>   <th>                     </th>     <td> </td>    \n",
       "</tr>\n",
       "<tr>\n",
       "  <th>Covariance Type:</th>        <td>opg</td>       <th>                     </th>     <td> </td>    \n",
       "</tr>\n",
       "</table>\n",
       "<table class=\"simpletable\">\n",
       "<tr>\n",
       "      <td></td>         <th>coef</th>     <th>std err</th>      <th>z</th>      <th>P>|z|</th>  <th>[0.025</th>    <th>0.975]</th>  \n",
       "</tr>\n",
       "<tr>\n",
       "  <th>intercept</th> <td>    0.0019</td> <td>    0.000</td> <td>    5.810</td> <td> 0.000</td> <td>    0.001</td> <td>    0.003</td>\n",
       "</tr>\n",
       "<tr>\n",
       "  <th>ar.L1</th>     <td>    0.6116</td> <td>    0.016</td> <td>   37.571</td> <td> 0.000</td> <td>    0.580</td> <td>    0.643</td>\n",
       "</tr>\n",
       "<tr>\n",
       "  <th>sigma2</th>    <td> 1.971e-05</td> <td> 5.09e-07</td> <td>   38.728</td> <td> 0.000</td> <td> 1.87e-05</td> <td> 2.07e-05</td>\n",
       "</tr>\n",
       "</table>\n",
       "<table class=\"simpletable\">\n",
       "<tr>\n",
       "  <th>Ljung-Box (L1) (Q):</th>     <td>0.42</td> <th>  Jarque-Bera (JB):  </th> <td>8121.21</td>\n",
       "</tr>\n",
       "<tr>\n",
       "  <th>Prob(Q):</th>                <td>0.52</td> <th>  Prob(JB):          </th>  <td>0.00</td>  \n",
       "</tr>\n",
       "<tr>\n",
       "  <th>Heteroskedasticity (H):</th> <td>2.36</td> <th>  Skew:              </th>  <td>2.51</td>  \n",
       "</tr>\n",
       "<tr>\n",
       "  <th>Prob(H) (two-sided):</th>    <td>0.00</td> <th>  Kurtosis:          </th>  <td>25.72</td> \n",
       "</tr>\n",
       "</table><br/><br/>Warnings:<br/>[1] Covariance matrix calculated using the outer product of gradients (complex-step)."
      ],
      "text/latex": [
       "\\begin{center}\n",
       "\\begin{tabular}{lclc}\n",
       "\\toprule\n",
       "\\textbf{Dep. Variable:}          &        y         & \\textbf{  No. Observations:  } &    361      \\\\\n",
       "\\textbf{Model:}                  & SARIMAX(1, 1, 0) & \\textbf{  Log Likelihood     } &  1438.884   \\\\\n",
       "\\textbf{Date:}                   & Tue, 25 Mar 2025 & \\textbf{  AIC                } & -2871.769   \\\\\n",
       "\\textbf{Time:}                   &     11:39:00     & \\textbf{  BIC                } & -2860.111   \\\\\n",
       "\\textbf{Sample:}                 &    01-31-1995    & \\textbf{  HQIC               } & -2867.133   \\\\\n",
       "\\textbf{}                        &   - 01-31-2025   & \\textbf{                     } &             \\\\\n",
       "\\textbf{Covariance Type:}        &       opg        & \\textbf{                     } &             \\\\\n",
       "\\bottomrule\n",
       "\\end{tabular}\n",
       "\\begin{tabular}{lcccccc}\n",
       "                   & \\textbf{coef} & \\textbf{std err} & \\textbf{z} & \\textbf{P$> |$z$|$} & \\textbf{[0.025} & \\textbf{0.975]}  \\\\\n",
       "\\midrule\n",
       "\\textbf{intercept} &       0.0019  &        0.000     &     5.810  &         0.000        &        0.001    &        0.003     \\\\\n",
       "\\textbf{ar.L1}     &       0.6116  &        0.016     &    37.571  &         0.000        &        0.580    &        0.643     \\\\\n",
       "\\textbf{sigma2}    &    1.971e-05  &     5.09e-07     &    38.728  &         0.000        &     1.87e-05    &     2.07e-05     \\\\\n",
       "\\bottomrule\n",
       "\\end{tabular}\n",
       "\\begin{tabular}{lclc}\n",
       "\\textbf{Ljung-Box (L1) (Q):}     & 0.42 & \\textbf{  Jarque-Bera (JB):  } & 8121.21  \\\\\n",
       "\\textbf{Prob(Q):}                & 0.52 & \\textbf{  Prob(JB):          } &   0.00   \\\\\n",
       "\\textbf{Heteroskedasticity (H):} & 2.36 & \\textbf{  Skew:              } &   2.51   \\\\\n",
       "\\textbf{Prob(H) (two-sided):}    & 0.00 & \\textbf{  Kurtosis:          } &  25.72   \\\\\n",
       "\\bottomrule\n",
       "\\end{tabular}\n",
       "%\\caption{SARIMAX Results}\n",
       "\\end{center}\n",
       "\n",
       "Warnings: \\newline\n",
       " [1] Covariance matrix calculated using the outer product of gradients (complex-step)."
      ],
      "text/plain": [
       "<class 'statsmodels.iolib.summary.Summary'>\n",
       "\"\"\"\n",
       "                               SARIMAX Results                                \n",
       "==============================================================================\n",
       "Dep. Variable:                      y   No. Observations:                  361\n",
       "Model:               SARIMAX(1, 1, 0)   Log Likelihood                1438.884\n",
       "Date:                Tue, 25 Mar 2025   AIC                          -2871.769\n",
       "Time:                        11:39:00   BIC                          -2860.111\n",
       "Sample:                    01-31-1995   HQIC                         -2867.133\n",
       "                         - 01-31-2025                                         \n",
       "Covariance Type:                  opg                                         \n",
       "==============================================================================\n",
       "                 coef    std err          z      P>|z|      [0.025      0.975]\n",
       "------------------------------------------------------------------------------\n",
       "intercept      0.0019      0.000      5.810      0.000       0.001       0.003\n",
       "ar.L1          0.6116      0.016     37.571      0.000       0.580       0.643\n",
       "sigma2      1.971e-05   5.09e-07     38.728      0.000    1.87e-05    2.07e-05\n",
       "===================================================================================\n",
       "Ljung-Box (L1) (Q):                   0.42   Jarque-Bera (JB):              8121.21\n",
       "Prob(Q):                              0.52   Prob(JB):                         0.00\n",
       "Heteroskedasticity (H):               2.36   Skew:                             2.51\n",
       "Prob(H) (two-sided):                  0.00   Kurtosis:                        25.72\n",
       "===================================================================================\n",
       "\n",
       "Warnings:\n",
       "[1] Covariance matrix calculated using the outer product of gradients (complex-step).\n",
       "\"\"\""
      ]
     },
     "execution_count": 13,
     "metadata": {},
     "output_type": "execute_result"
    }
   ],
   "source": [
    "forecaster = ARIMA(order=(1,1,0), trend='c')\n",
    "forecaster.fit(y)\n",
    "forecaster.summary()"
   ]
  },
  {
   "cell_type": "code",
   "execution_count": 15,
   "metadata": {},
   "outputs": [
    {
     "data": {
      "application/vnd.microsoft.datawrangler.viewer.v0+json": {
       "columns": [
        {
         "name": "index",
         "rawType": "int32",
         "type": "integer"
        },
        {
         "name": "lb_stat",
         "rawType": "float64",
         "type": "float"
        },
        {
         "name": "lb_pvalue",
         "rawType": "float64",
         "type": "float"
        }
       ],
       "conversionMethod": "pd.DataFrame",
       "ref": "0b59fbf9-b7d4-46ad-863b-3b28f38f250d",
       "rows": [
        [
         "5",
         "10.400755452380107",
         "0.015449466431856226"
        ]
       ],
       "shape": {
        "columns": 2,
        "rows": 1
       }
      },
      "text/html": [
       "<div>\n",
       "<style scoped>\n",
       "    .dataframe tbody tr th:only-of-type {\n",
       "        vertical-align: middle;\n",
       "    }\n",
       "\n",
       "    .dataframe tbody tr th {\n",
       "        vertical-align: top;\n",
       "    }\n",
       "\n",
       "    .dataframe thead th {\n",
       "        text-align: right;\n",
       "    }\n",
       "</style>\n",
       "<table border=\"1\" class=\"dataframe\">\n",
       "  <thead>\n",
       "    <tr style=\"text-align: right;\">\n",
       "      <th></th>\n",
       "      <th>lb_stat</th>\n",
       "      <th>lb_pvalue</th>\n",
       "    </tr>\n",
       "  </thead>\n",
       "  <tbody>\n",
       "    <tr>\n",
       "      <th>5</th>\n",
       "      <td>10.400755</td>\n",
       "      <td>0.015449</td>\n",
       "    </tr>\n",
       "  </tbody>\n",
       "</table>\n",
       "</div>"
      ],
      "text/plain": [
       "     lb_stat  lb_pvalue\n",
       "5  10.400755   0.015449"
      ]
     },
     "execution_count": 15,
     "metadata": {},
     "output_type": "execute_result"
    }
   ],
   "source": [
    "# model_df = p+q\n",
    "acorr_ljungbox(forecaster.predict_residuals(y).dropna() , lags=[5], model_df=2)"
   ]
  },
  {
   "cell_type": "code",
   "execution_count": null,
   "metadata": {},
   "outputs": [],
   "source": [
    "#### от автокорреляции можно избавиться, включив больше лагов в модель"
   ]
  },
  {
   "cell_type": "markdown",
   "metadata": {},
   "source": [
    "# Heteroskedasticity test"
   ]
  },
  {
   "cell_type": "code",
   "execution_count": 17,
   "metadata": {},
   "outputs": [
    {
     "data": {
      "text/plain": [
       "(73.677257048601, 2.6608627327732756e-13)"
      ]
     },
     "execution_count": 17,
     "metadata": {},
     "output_type": "execute_result"
    }
   ],
   "source": [
    "lm_stat, lm_pval, f_stat, f_pval = het_arch(forecaster.predict_residuals(y).dropna(), nlags=7, ddof=2+2)\n",
    "\n",
    "lm_stat, lm_pval"
   ]
  },
  {
   "cell_type": "code",
   "execution_count": 18,
   "metadata": {},
   "outputs": [
    {
     "data": {
      "image/png": "[encoded data removed]",
      "text/plain": [
       "<Figure size 640x480 with 1 Axes>"
      ]
     },
     "metadata": {},
     "output_type": "display_data"
    }
   ],
   "source": [
    "forecaster.predict_residuals(y).plot()\n",
    "plt.show()"
   ]
  },
  {
   "cell_type": "markdown",
   "metadata": {},
   "source": [
    "Для данного ряда модель ARIMA работает плохо. Нужно придумать к ней \"костыли\""
   ]
  },
  {
   "cell_type": "markdown",
   "metadata": {},
   "source": [
    "### ДЗ: номер 4 (диагностика - проверить на автокорелляцию и гетероскедастичность)"
   ]
  },
  {
   "cell_type": "code",
   "execution_count": null,
   "metadata": {},
   "outputs": [],
   "source": []
  }
 ],
 "metadata": {
  "kernelspec": {
   "display_name": "base",
   "language": "python",
   "name": "python3"
  },
  "language_info": {
   "codemirror_mode": {
    "name": "ipython",
    "version": 3
   },
   "file_extension": ".py",
   "mimetype": "text/x-python",
   "name": "python",
   "nbconvert_exporter": "python",
   "pygments_lexer": "ipython3",
   "version": "3.12.7"
  }
 },
 "nbformat": 4,
 "nbformat_minor": 2
}
