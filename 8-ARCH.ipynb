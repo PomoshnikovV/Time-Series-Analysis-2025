{
 "cells": [
  {
   "cell_type": "code",
   "execution_count": 1,
   "metadata": {},
   "outputs": [
    {
     "name": "stderr",
     "output_type": "stream",
     "text": [
      "C:\\Users\\danil\\AppData\\Roaming\\Python\\Python39\\site-packages\\pandas\\core\\computation\\expressions.py:21: UserWarning: Pandas requires version '2.8.4' or newer of 'numexpr' (version '2.7.3' currently installed).\n",
      "  from pandas.core.computation.check import NUMEXPR_INSTALLED\n",
      "C:\\Users\\danil\\AppData\\Roaming\\Python\\Python39\\site-packages\\pandas\\core\\arrays\\masked.py:60: UserWarning: Pandas requires version '1.3.6' or newer of 'bottleneck' (version '1.3.2' currently installed).\n",
      "  from pandas.core import (\n"
     ]
    }
   ],
   "source": [
    "import numpy as np\n",
    "import pandas as pd\n",
    "\n",
    "from sktime.forecasting.arch import ARCH\n",
    "from sktime.utils.plotting import plot_series\n",
    "# временной горизонт для прогнозирования\n",
    "from sktime.forecasting.base import ForecastingHorizon\n",
    "\n",
    "import pandas_datareader.data as web\n",
    "\n",
    "# настройки визуализации\n",
    "import matplotlib.pyplot as plt\n",
    "\n",
    "# Не показывать Warnings\n",
    "import warnings\n",
    "warnings.simplefilter(action='ignore', category=Warning)\n",
    "# Не показывать ValueWarning, ConvergenceWarning из statsmodels\n",
    "# from statsmodels.tools.sm_exceptions import ValueWarning, ConvergenceWarning\n",
    "# warnings.simplefilter('ignore', category=ValueWarning)\n",
    "# warnings.simplefilter('ignore', category=ConvergenceWarning)"
   ]
  },
  {
   "cell_type": "code",
   "execution_count": 2,
   "metadata": {},
   "outputs": [],
   "source": [
    "y = web.DataReader(name='WGS10YR', data_source='fred', start='2000-01-01')"
   ]
  },
  {
   "cell_type": "code",
   "execution_count": 3,
   "metadata": {},
   "outputs": [
    {
     "data": {
      "text/html": [
       "<table class=\"simpletable\">\n",
       "<caption>AR - GARCH Model Results</caption>\n",
       "<tr>\n",
       "  <th>Dep. Variable:</th>        <td>None</td>        <th>  R-squared:         </th>  <td>   0.994</td> \n",
       "</tr>\n",
       "<tr>\n",
       "  <th>Mean Model:</th>            <td>AR</td>         <th>  Adj. R-squared:    </th>  <td>   0.994</td> \n",
       "</tr>\n",
       "<tr>\n",
       "  <th>Vol Model:</th>            <td>GARCH</td>       <th>  Log-Likelihood:    </th> <td>   1230.80</td>\n",
       "</tr>\n",
       "<tr>\n",
       "  <th>Distribution:</th>        <td>Normal</td>       <th>  AIC:               </th> <td>  -2451.59</td>\n",
       "</tr>\n",
       "<tr>\n",
       "  <th>Method:</th>        <td>Maximum Likelihood</td> <th>  BIC:               </th> <td>  -2425.68</td>\n",
       "</tr>\n",
       "<tr>\n",
       "  <th></th>                        <td></td>          <th>  No. Observations:  </th>    <td>1317</td>   \n",
       "</tr>\n",
       "<tr>\n",
       "  <th>Date:</th>           <td>Sun, Apr 13 2025</td>  <th>  Df Residuals:      </th>    <td>1315</td>   \n",
       "</tr>\n",
       "<tr>\n",
       "  <th>Time:</th>               <td>22:32:10</td>      <th>  Df Model:          </th>      <td>2</td>    \n",
       "</tr>\n",
       "</table>\n",
       "<table class=\"simpletable\">\n",
       "<caption>Mean Model</caption>\n",
       "<tr>\n",
       "     <td></td>        <th>coef</th>     <th>std err</th>      <th>t</th>       <th>P>|t|</th>     <th>95.0% Conf. Int.</th>   \n",
       "</tr>\n",
       "<tr>\n",
       "  <th>Const</th>   <td>    0.0132</td> <td>5.686e-03</td> <td>    2.313</td> <td>2.074e-02</td> <td>[2.006e-03,2.430e-02]</td>\n",
       "</tr>\n",
       "<tr>\n",
       "  <th>None[1]</th> <td>    0.9957</td> <td>1.767e-03</td> <td>  563.468</td>   <td>0.000</td>     <td>[  0.992,  0.999]</td>  \n",
       "</tr>\n",
       "</table>\n",
       "<table class=\"simpletable\">\n",
       "<caption>Volatility Model</caption>\n",
       "<tr>\n",
       "      <td></td>        <th>coef</th>     <th>std err</th>      <th>t</th>        <th>P>|t|</th>     <th>95.0% Conf. Int.</th>   \n",
       "</tr>\n",
       "<tr>\n",
       "  <th>omega</th>    <td>2.3036e-04</td> <td>1.156e-04</td> <td>    1.993</td>  <td>4.622e-02</td> <td>[3.864e-06,4.569e-04]</td>\n",
       "</tr>\n",
       "<tr>\n",
       "  <th>alpha[1]</th> <td>    0.0818</td> <td>2.148e-02</td> <td>    3.810</td>  <td>1.389e-04</td>  <td>[3.974e-02,  0.124]</td> \n",
       "</tr>\n",
       "<tr>\n",
       "  <th>beta[1]</th>  <td>    0.8965</td> <td>2.865e-02</td> <td>   31.287</td> <td>6.967e-215</td>   <td>[  0.840,  0.953]</td>  \n",
       "</tr>\n",
       "</table><br/><br/>Covariance estimator: robust"
      ],
      "text/plain": [
       "<class 'statsmodels.iolib.summary.Summary'>\n",
       "\"\"\"\n",
       "                           AR - GARCH Model Results                           \n",
       "==============================================================================\n",
       "Dep. Variable:                   None   R-squared:                       0.994\n",
       "Mean Model:                        AR   Adj. R-squared:                  0.994\n",
       "Vol Model:                      GARCH   Log-Likelihood:                1230.80\n",
       "Distribution:                  Normal   AIC:                          -2451.59\n",
       "Method:            Maximum Likelihood   BIC:                          -2425.68\n",
       "                                        No. Observations:                 1317\n",
       "Date:                Sun, Apr 13 2025   Df Residuals:                     1315\n",
       "Time:                        22:32:10   Df Model:                            2\n",
       "                                 Mean Model                                 \n",
       "============================================================================\n",
       "                 coef    std err          t      P>|t|      95.0% Conf. Int.\n",
       "----------------------------------------------------------------------------\n",
       "Const          0.0132  5.686e-03      2.313  2.074e-02 [2.006e-03,2.430e-02]\n",
       "None[1]        0.9957  1.767e-03    563.468      0.000     [  0.992,  0.999]\n",
       "                              Volatility Model                              \n",
       "============================================================================\n",
       "                 coef    std err          t      P>|t|      95.0% Conf. Int.\n",
       "----------------------------------------------------------------------------\n",
       "omega      2.3036e-04  1.156e-04      1.993  4.622e-02 [3.864e-06,4.569e-04]\n",
       "alpha[1]       0.0818  2.148e-02      3.810  1.389e-04   [3.974e-02,  0.124]\n",
       "beta[1]        0.8965  2.865e-02     31.287 6.967e-215     [  0.840,  0.953]\n",
       "============================================================================\n",
       "\n",
       "Covariance estimator: robust\n",
       "\"\"\""
      ]
     },
     "execution_count": 3,
     "metadata": {},
     "output_type": "execute_result"
    }
   ],
   "source": [
    "forecaster = ARCH(mean='AR', lags=1, vol='GARCH', p=1, q=1, power=2)  \n",
    "forecaster.fit(y)\n",
    "\n",
    "forecaster.summary()"
   ]
  },
  {
   "cell_type": "code",
   "execution_count": 4,
   "metadata": {},
   "outputs": [
    {
     "data": {
      "text/html": [
       "<table class=\"simpletable\">\n",
       "<caption>AR - GJR-GARCH Model Results</caption>\n",
       "<tr>\n",
       "  <th>Dep. Variable:</th>        <td>None</td>        <th>  R-squared:         </th>  <td>   0.994</td> \n",
       "</tr>\n",
       "<tr>\n",
       "  <th>Mean Model:</th>            <td>AR</td>         <th>  Adj. R-squared:    </th>  <td>   0.994</td> \n",
       "</tr>\n",
       "<tr>\n",
       "  <th>Vol Model:</th>          <td>GJR-GARCH</td>     <th>  Log-Likelihood:    </th> <td>   1232.81</td>\n",
       "</tr>\n",
       "<tr>\n",
       "  <th>Distribution:</th>        <td>Normal</td>       <th>  AIC:               </th> <td>  -2453.62</td>\n",
       "</tr>\n",
       "<tr>\n",
       "  <th>Method:</th>        <td>Maximum Likelihood</td> <th>  BIC:               </th> <td>  -2422.52</td>\n",
       "</tr>\n",
       "<tr>\n",
       "  <th></th>                        <td></td>          <th>  No. Observations:  </th>    <td>1317</td>   \n",
       "</tr>\n",
       "<tr>\n",
       "  <th>Date:</th>           <td>Sun, Apr 13 2025</td>  <th>  Df Residuals:      </th>    <td>1315</td>   \n",
       "</tr>\n",
       "<tr>\n",
       "  <th>Time:</th>               <td>22:33:59</td>      <th>  Df Model:          </th>      <td>2</td>    \n",
       "</tr>\n",
       "</table>\n",
       "<table class=\"simpletable\">\n",
       "<caption>Mean Model</caption>\n",
       "<tr>\n",
       "     <td></td>        <th>coef</th>     <th>std err</th>      <th>t</th>       <th>P>|t|</th>     <th>95.0% Conf. Int.</th>   \n",
       "</tr>\n",
       "<tr>\n",
       "  <th>Const</th>   <td>    0.0116</td> <td>5.799e-03</td> <td>    2.005</td> <td>4.492e-02</td> <td>[2.636e-04,2.299e-02]</td>\n",
       "</tr>\n",
       "<tr>\n",
       "  <th>None[1]</th> <td>    0.9959</td> <td>1.766e-03</td> <td>  563.991</td>   <td>0.000</td>     <td>[  0.992,  0.999]</td>  \n",
       "</tr>\n",
       "</table>\n",
       "<table class=\"simpletable\">\n",
       "<caption>Volatility Model</caption>\n",
       "<tr>\n",
       "      <td></td>        <th>coef</th>     <th>std err</th>      <th>t</th>        <th>P>|t|</th>      <th>95.0% Conf. Int.</th>   \n",
       "</tr>\n",
       "<tr>\n",
       "  <th>omega</th>    <td>2.1790e-04</td> <td>9.717e-05</td> <td>    2.242</td>  <td>2.493e-02</td>  <td>[2.745e-05,4.083e-04]</td>\n",
       "</tr>\n",
       "<tr>\n",
       "  <th>alpha[1]</th> <td>    0.0628</td> <td>1.833e-02</td> <td>    3.425</td>  <td>6.149e-04</td>  <td>[2.685e-02,9.871e-02]</td>\n",
       "</tr>\n",
       "<tr>\n",
       "  <th>gamma[1]</th> <td>    0.0403</td> <td>2.441e-02</td> <td>    1.651</td>  <td>9.882e-02</td> <td>[-7.553e-03,8.814e-02]</td>\n",
       "</tr>\n",
       "<tr>\n",
       "  <th>beta[1]</th>  <td>    0.8976</td> <td>2.409e-02</td> <td>   37.263</td> <td>6.541e-304</td>    <td>[  0.850,  0.945]</td>  \n",
       "</tr>\n",
       "</table><br/><br/>Covariance estimator: robust"
      ],
      "text/plain": [
       "<class 'statsmodels.iolib.summary.Summary'>\n",
       "\"\"\"\n",
       "                         AR - GJR-GARCH Model Results                         \n",
       "==============================================================================\n",
       "Dep. Variable:                   None   R-squared:                       0.994\n",
       "Mean Model:                        AR   Adj. R-squared:                  0.994\n",
       "Vol Model:                  GJR-GARCH   Log-Likelihood:                1232.81\n",
       "Distribution:                  Normal   AIC:                          -2453.62\n",
       "Method:            Maximum Likelihood   BIC:                          -2422.52\n",
       "                                        No. Observations:                 1317\n",
       "Date:                Sun, Apr 13 2025   Df Residuals:                     1315\n",
       "Time:                        22:33:59   Df Model:                            2\n",
       "                                 Mean Model                                 \n",
       "============================================================================\n",
       "                 coef    std err          t      P>|t|      95.0% Conf. Int.\n",
       "----------------------------------------------------------------------------\n",
       "Const          0.0116  5.799e-03      2.005  4.492e-02 [2.636e-04,2.299e-02]\n",
       "None[1]        0.9959  1.766e-03    563.991      0.000     [  0.992,  0.999]\n",
       "                               Volatility Model                              \n",
       "=============================================================================\n",
       "                 coef    std err          t      P>|t|       95.0% Conf. Int.\n",
       "-----------------------------------------------------------------------------\n",
       "omega      2.1790e-04  9.717e-05      2.242  2.493e-02  [2.745e-05,4.083e-04]\n",
       "alpha[1]       0.0628  1.833e-02      3.425  6.149e-04  [2.685e-02,9.871e-02]\n",
       "gamma[1]       0.0403  2.441e-02      1.651  9.882e-02 [-7.553e-03,8.814e-02]\n",
       "beta[1]        0.8976  2.409e-02     37.263 6.541e-304      [  0.850,  0.945]\n",
       "=============================================================================\n",
       "\n",
       "Covariance estimator: robust\n",
       "\"\"\""
      ]
     },
     "execution_count": 4,
     "metadata": {},
     "output_type": "execute_result"
    }
   ],
   "source": [
    "#GJR-GARCH\n",
    "forecaster = ARCH(mean='AR', lags=1, vol='GARCH', p=1, q=1, o=1, power=2)  \n",
    "forecaster.fit(y)\n",
    "\n",
    "forecaster.summary()"
   ]
  },
  {
   "cell_type": "code",
   "execution_count": 5,
   "metadata": {},
   "outputs": [
    {
     "data": {
      "text/html": [
       "<table class=\"simpletable\">\n",
       "<caption>AR - EGARCH Model Results</caption>\n",
       "<tr>\n",
       "  <th>Dep. Variable:</th>        <td>None</td>        <th>  R-squared:         </th>  <td>   0.994</td> \n",
       "</tr>\n",
       "<tr>\n",
       "  <th>Mean Model:</th>            <td>AR</td>         <th>  Adj. R-squared:    </th>  <td>   0.994</td> \n",
       "</tr>\n",
       "<tr>\n",
       "  <th>Vol Model:</th>           <td>EGARCH</td>       <th>  Log-Likelihood:    </th> <td>   1231.23</td>\n",
       "</tr>\n",
       "<tr>\n",
       "  <th>Distribution:</th>        <td>Normal</td>       <th>  AIC:               </th> <td>  -2450.46</td>\n",
       "</tr>\n",
       "<tr>\n",
       "  <th>Method:</th>        <td>Maximum Likelihood</td> <th>  BIC:               </th> <td>  -2419.36</td>\n",
       "</tr>\n",
       "<tr>\n",
       "  <th></th>                        <td></td>          <th>  No. Observations:  </th>    <td>1317</td>   \n",
       "</tr>\n",
       "<tr>\n",
       "  <th>Date:</th>           <td>Sun, Apr 13 2025</td>  <th>  Df Residuals:      </th>    <td>1315</td>   \n",
       "</tr>\n",
       "<tr>\n",
       "  <th>Time:</th>               <td>22:34:09</td>      <th>  Df Model:          </th>      <td>2</td>    \n",
       "</tr>\n",
       "</table>\n",
       "<table class=\"simpletable\">\n",
       "<caption>Mean Model</caption>\n",
       "<tr>\n",
       "     <td></td>        <th>coef</th>     <th>std err</th>      <th>t</th>       <th>P>|t|</th>     <th>95.0% Conf. Int.</th>   \n",
       "</tr>\n",
       "<tr>\n",
       "  <th>Const</th>   <td>    0.0104</td> <td>2.419e-03</td> <td>    4.315</td> <td>1.598e-05</td> <td>[5.696e-03,1.518e-02]</td>\n",
       "</tr>\n",
       "<tr>\n",
       "  <th>None[1]</th> <td>    0.9964</td> <td>8.124e-04</td> <td> 1226.538</td>   <td>0.000</td>     <td>[  0.995,  0.998]</td>  \n",
       "</tr>\n",
       "</table>\n",
       "<table class=\"simpletable\">\n",
       "<caption>Volatility Model</caption>\n",
       "<tr>\n",
       "      <td></td>        <th>coef</th>     <th>std err</th>      <th>t</th>       <th>P>|t|</th>      <th>95.0% Conf. Int.</th>    \n",
       "</tr>\n",
       "<tr>\n",
       "  <th>omega</th>    <td>   -0.1030</td> <td>4.593e-02</td> <td>   -2.243</td> <td>2.492e-02</td>  <td>[ -0.193,-1.299e-02]</td>  \n",
       "</tr>\n",
       "<tr>\n",
       "  <th>alpha[1]</th> <td>    0.1616</td> <td>3.349e-02</td> <td>    4.825</td> <td>1.401e-06</td>   <td>[9.594e-02,  0.227]</td>  \n",
       "</tr>\n",
       "<tr>\n",
       "  <th>gamma[1]</th> <td>   -0.0351</td> <td>1.492e-02</td> <td>   -2.349</td> <td>1.882e-02</td> <td>[-6.431e-02,-5.806e-03]</td>\n",
       "</tr>\n",
       "<tr>\n",
       "  <th>beta[1]</th>  <td>    0.9778</td> <td>9.780e-03</td> <td>   99.980</td>   <td>0.000</td>      <td>[  0.959,  0.997]</td>   \n",
       "</tr>\n",
       "</table><br/><br/>Covariance estimator: robust"
      ],
      "text/plain": [
       "<class 'statsmodels.iolib.summary.Summary'>\n",
       "\"\"\"\n",
       "                          AR - EGARCH Model Results                           \n",
       "==============================================================================\n",
       "Dep. Variable:                   None   R-squared:                       0.994\n",
       "Mean Model:                        AR   Adj. R-squared:                  0.994\n",
       "Vol Model:                     EGARCH   Log-Likelihood:                1231.23\n",
       "Distribution:                  Normal   AIC:                          -2450.46\n",
       "Method:            Maximum Likelihood   BIC:                          -2419.36\n",
       "                                        No. Observations:                 1317\n",
       "Date:                Sun, Apr 13 2025   Df Residuals:                     1315\n",
       "Time:                        22:34:09   Df Model:                            2\n",
       "                                 Mean Model                                 \n",
       "============================================================================\n",
       "                 coef    std err          t      P>|t|      95.0% Conf. Int.\n",
       "----------------------------------------------------------------------------\n",
       "Const          0.0104  2.419e-03      4.315  1.598e-05 [5.696e-03,1.518e-02]\n",
       "None[1]        0.9964  8.124e-04   1226.538      0.000     [  0.995,  0.998]\n",
       "                               Volatility Model                               \n",
       "==============================================================================\n",
       "                 coef    std err          t      P>|t|        95.0% Conf. Int.\n",
       "------------------------------------------------------------------------------\n",
       "omega         -0.1030  4.593e-02     -2.243  2.492e-02    [ -0.193,-1.299e-02]\n",
       "alpha[1]       0.1616  3.349e-02      4.825  1.401e-06     [9.594e-02,  0.227]\n",
       "gamma[1]      -0.0351  1.492e-02     -2.349  1.882e-02 [-6.431e-02,-5.806e-03]\n",
       "beta[1]        0.9778  9.780e-03     99.980      0.000       [  0.959,  0.997]\n",
       "==============================================================================\n",
       "\n",
       "Covariance estimator: robust\n",
       "\"\"\""
      ]
     },
     "execution_count": 5,
     "metadata": {},
     "output_type": "execute_result"
    }
   ],
   "source": [
    "#EGARCH\n",
    "forecaster = ARCH(mean='AR', lags=1, vol='EGARCH', p=1, q=1, o=1, power=2)  \n",
    "forecaster.fit(y)\n",
    "\n",
    "forecaster.summary()"
   ]
  },
  {
   "cell_type": "code",
   "execution_count": null,
   "metadata": {},
   "outputs": [
    {
     "data": {
      "application/vnd.microsoft.datawrangler.viewer.v0+json": {
       "columns": [
        {
         "name": "index",
         "rawType": "datetime64[ns]",
         "type": "datetime"
        },
        {
         "name": "WGS10YR",
         "rawType": "float64",
         "type": "float"
        }
       ],
       "conversionMethod": "pd.DataFrame",
       "ref": "633e7f1d-9d75-4f5c-95ae-6ce39f081c1f",
       "rows": [
        [
         "2025-04-04 00:00:00",
         "4.324954292914075"
        ],
        [
         "2025-04-11 00:00:00",
         "4.3199266409694514"
        ],
        [
         "2025-04-18 00:00:00",
         "4.314916979559103"
        ],
        [
         "2025-04-25 00:00:00",
         "4.309925244307189"
        ],
        [
         "2025-05-02 00:00:00",
         "4.304951371068225"
        ]
       ],
       "shape": {
        "columns": 1,
        "rows": 5
       }
      },
      "text/html": [
       "<div>\n",
       "<style scoped>\n",
       "    .dataframe tbody tr th:only-of-type {\n",
       "        vertical-align: middle;\n",
       "    }\n",
       "\n",
       "    .dataframe tbody tr th {\n",
       "        vertical-align: top;\n",
       "    }\n",
       "\n",
       "    .dataframe thead th {\n",
       "        text-align: right;\n",
       "    }\n",
       "</style>\n",
       "<table border=\"1\" class=\"dataframe\">\n",
       "  <thead>\n",
       "    <tr style=\"text-align: right;\">\n",
       "      <th></th>\n",
       "      <th>WGS10YR</th>\n",
       "    </tr>\n",
       "  </thead>\n",
       "  <tbody>\n",
       "    <tr>\n",
       "      <th>2025-04-04</th>\n",
       "      <td>4.324954</td>\n",
       "    </tr>\n",
       "    <tr>\n",
       "      <th>2025-04-11</th>\n",
       "      <td>4.319927</td>\n",
       "    </tr>\n",
       "    <tr>\n",
       "      <th>2025-04-18</th>\n",
       "      <td>4.314917</td>\n",
       "    </tr>\n",
       "    <tr>\n",
       "      <th>2025-04-25</th>\n",
       "      <td>4.309925</td>\n",
       "    </tr>\n",
       "    <tr>\n",
       "      <th>2025-05-02</th>\n",
       "      <td>4.304951</td>\n",
       "    </tr>\n",
       "  </tbody>\n",
       "</table>\n",
       "</div>"
      ],
      "text/plain": [
       "             WGS10YR\n",
       "2025-04-04  4.324954\n",
       "2025-04-11  4.319927\n",
       "2025-04-18  4.314917\n",
       "2025-04-25  4.309925\n",
       "2025-05-02  4.304951"
      ]
     },
     "execution_count": 7,
     "metadata": {},
     "output_type": "execute_result"
    }
   ],
   "source": [
    "# зададим горизонт прогнозирования и частотность\n",
    "fh = ForecastingHorizon(np.arange(1,6), freq ='W-Fri')\n",
    "\n",
    "y_pred = forecaster.fit_predict(y=y, fh=fh)\n",
    "\n",
    "y_pred"
   ]
  },
  {
   "cell_type": "code",
   "execution_count": null,
   "metadata": {},
   "outputs": [
    {
     "data": {
      "text/plain": [
       "2025-04-04    0.008134\n",
       "2025-04-11    0.016622\n",
       "2025-04-18    0.024950\n",
       "2025-04-25    0.033445\n",
       "2025-05-02    0.042139\n",
       "Freq: W-FRI, dtype: float64"
      ]
     },
     "execution_count": 8,
     "metadata": {},
     "output_type": "execute_result"
    }
   ],
   "source": [
    "# прогноз волатильности\n",
    "forecaster.predict_var(fh=fh)"
   ]
  },
  {
   "cell_type": "markdown",
   "metadata": {},
   "source": [
    "# ДЗ: глава 4, задание 1"
   ]
  },
  {
   "cell_type": "code",
   "execution_count": null,
   "metadata": {},
   "outputs": [],
   "source": []
  }
 ],
 "metadata": {
  "kernelspec": {
   "display_name": "base",
   "language": "python",
   "name": "python3"
  },
  "language_info": {
   "codemirror_mode": {
    "name": "ipython",
    "version": 3
   },
   "file_extension": ".py",
   "mimetype": "text/x-python",
   "name": "python",
   "nbconvert_exporter": "python",
   "pygments_lexer": "ipython3",
   "version": "3.12.7"
  }
 },
 "nbformat": 4,
 "nbformat_minor": 2
}
